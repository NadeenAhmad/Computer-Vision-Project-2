{
  "nbformat": 4,
  "nbformat_minor": 0,
  "metadata": {
    "colab": {
      "name": "DLCV Ass1.ipynb",
      "provenance": [],
      "collapsed_sections": []
    },
    "kernelspec": {
      "name": "python3",
      "display_name": "Python 3"
    },
    "accelerator": "TPU"
  },
  "cells": [
    {
      "cell_type": "markdown",
      "metadata": {
        "id": "4YhHvyc7Epid",
        "colab_type": "text"
      },
      "source": [
        "## **DLCV Assignment #1** \n",
        "### Team Members : Nadeen Ahmad 37-4023 - Malak ElShenawy 37-0730 \n",
        "### Group D:\n",
        "### 4023 + 730 = 4753  --> Odd number \n",
        "### Question #1:\n",
        "#### Group D: im1, im2, im5, im8\n"
      ]
    },
    {
      "cell_type": "code",
      "metadata": {
        "id": "xlw0FfqcEof4",
        "colab_type": "code",
        "outputId": "1cd4e996-c10c-4bf5-fd55-9c823993c036",
        "colab": {
          "base_uri": "https://localhost:8080/",
          "height": 145
        }
      },
      "source": [
        "## Creating Image #1 No Noise\n",
        "import numpy as np\n",
        "from PIL import Image\n",
        "img1 = np.zeros((512, 512))\n",
        "for i in range(0,512):\n",
        "    for j in range(0,512):\n",
        "        if(i <256 and j < 256):\n",
        "            img1[i][j] = 40\n",
        "        elif (i< 256 and j > 255):\n",
        "            img1[i][j] = 170\n",
        "        elif (i> 255 and j < 256):\n",
        "            img1[i][j] = 90\n",
        "        else:\n",
        "            img1[i][j] = 200\n",
        "\n",
        "image1 = Image.fromarray(img1)\n",
        "image1 = image1.convert('RGB')\n",
        "image1.save('im1.tif')\n",
        "display(image1.resize((128,128)))"
      ],
      "execution_count": 1,
      "outputs": [
        {
          "output_type": "display_data",
          "data": {
            "image/png": "[encoded data removed]",
            "text/plain": [
              "<PIL.Image.Image image mode=RGB size=128x128 at 0x7FC34AD713C8>"
            ]
          },
          "metadata": {
            "tags": []
          }
        }
      ]
    },
    {
      "cell_type": "code",
      "metadata": {
        "id": "-Wwg8PHkExd2",
        "colab_type": "code",
        "colab": {}
      },
      "source": [
        "# Creating image#2 basic salt & pepper noise\n",
        "def saltAndPepperNoise(X_imgs, amount):\n",
        "    # Need to produce a copy as to not modify the original image\n",
        "    X_imgs_copy = X_imgs.copy()\n",
        "    row, col = X_imgs_copy.shape\n",
        "    salt_vs_pepper = 0.2\n",
        "    num_salt = np.ceil(amount * X_imgs_copy.size * salt_vs_pepper)\n",
        "    num_pepper = np.ceil(amount * X_imgs_copy.size * (1.0 - salt_vs_pepper))\n",
        "    # Add Salt noise\n",
        "    coords = [np.random.randint(0, i - 1, int(num_salt)) for i in X_imgs_copy.shape]\n",
        "    X_imgs_copy[coords[0], coords[1]] = 200\n",
        "    # Add Pepper noise\n",
        "    coords = [np.random.randint(0, i - 1, int(num_pepper)) for i in X_imgs_copy.shape]\n",
        "    X_imgs_copy[coords[0], coords[1]] = 40\n",
        "    #add 100\n",
        "    coords = [np.random.randint(0, i - 1, int(num_pepper)) for i in X_imgs_copy.shape]\n",
        "    X_imgs_copy[coords[0], coords[1]] = 90\n",
        "    #add 200\n",
        "    coords = [np.random.randint(0, i - 1, int(num_pepper)) for i in X_imgs_copy.shape]\n",
        "    X_imgs_copy[coords[0], coords[1]] = 170\n",
        "    return X_imgs_copy\n",
        "  "
      ],
      "execution_count": 0,
      "outputs": []
    },
    {
      "cell_type": "code",
      "metadata": {
        "id": "eESO1WMzE-tY",
        "colab_type": "code",
        "outputId": "c00d9935-72b8-45c4-96f8-3d274ac596d1",
        "colab": {
          "base_uri": "https://localhost:8080/",
          "height": 145
        }
      },
      "source": [
        "image2 = saltAndPepperNoise(img1, 0.05)\n",
        "image2 = Image.fromarray(image2)\n",
        "image2 = image2.convert('RGB')\n",
        "image2.save(\"im2.tif\")\n",
        "display(image2.resize((128,128)))"
      ],
      "execution_count": 3,
      "outputs": [
        {
          "output_type": "display_data",
          "data": {
            "image/png": "[encoded data removed]",
            "text/plain": [
              "<PIL.Image.Image image mode=RGB size=128x128 at 0x7FC34AD6C128>"
            ]
          },
          "metadata": {
            "tags": []
          }
        }
      ]
    },
    {
      "cell_type": "code",
      "metadata": {
        "id": "5AAZtKr6FCR8",
        "colab_type": "code",
        "outputId": "f00f786c-aaa4-401e-fdc5-1dec67b3019a",
        "colab": {
          "base_uri": "https://localhost:8080/",
          "height": 145
        }
      },
      "source": [
        "# Creating Image 5 where the upper half has the same grey level and the lower half has the same grey level\n",
        "# 2 columns with different widths have brighter grey levels \n",
        "image5 = np.zeros((512, 512))\n",
        "for i in range(0,512):\n",
        "    for j in range(0,512):\n",
        "        if(i <256):\n",
        "            image5[i][j] = 50\n",
        "        else:\n",
        "            image5[i][j] = 100\n",
        "        if(j>310 and j<320):\n",
        "            image5[i][j] = 200\n",
        "        if(j>400 and j<440):\n",
        "            image5[i][j] = 200\n",
        "\n",
        "img5  = Image.fromarray(image5)\n",
        "img5 = img5.convert('RGB')\n",
        "img5.save(\"im5.tif\")\n",
        "display(img5.resize((128,128)))"
      ],
      "execution_count": 4,
      "outputs": [
        {
          "output_type": "display_data",
          "data": {
            "image/png": "[encoded data removed]",
            "text/plain": [
              "<PIL.Image.Image image mode=RGB size=128x128 at 0x7FC34AD4E898>"
            ]
          },
          "metadata": {
            "tags": []
          }
        }
      ]
    },
    {
      "cell_type": "code",
      "metadata": {
        "id": "M5yIQVnEFGZ9",
        "colab_type": "code",
        "outputId": "7f0d6811-404c-475e-e663-80eaeaa5b831",
        "colab": {
          "base_uri": "https://localhost:8080/",
          "height": 145
        }
      },
      "source": [
        "#Creating Image 8 which is some random salt & pepper noise added to image 5\n",
        "image8 = saltAndPepperNoise(image5, 0.05)\n",
        "image8 = Image.fromarray(image8)\n",
        "image8 = image8.convert('RGB')\n",
        "\n",
        "image8.save(\"im8.tif\")\n",
        "display(image8.resize((128,128)))"
      ],
      "execution_count": 5,
      "outputs": [
        {
          "output_type": "display_data",
          "data": {
            "image/png": "[encoded data removed]",
            "text/plain": [
              "<PIL.Image.Image image mode=RGB size=128x128 at 0x7FC34A4F3B38>"
            ]
          },
          "metadata": {
            "tags": []
          }
        }
      ]
    },
    {
      "cell_type": "markdown",
      "metadata": {
        "id": "FS1GVpp0FOKE",
        "colab_type": "text"
      },
      "source": [
        "### Question #2\n",
        "####  Implement the K-means algorithm."
      ]
    },
    {
      "cell_type": "code",
      "metadata": {
        "id": "3V2qeGEJsh5n",
        "colab_type": "code",
        "colab": {}
      },
      "source": [
        "from PIL import Image, ImageStat\n",
        "import numpy\n",
        "def converged(centroids, old_centroids):\n",
        "\tif len(old_centroids) == 0:\n",
        "\t\treturn False\n",
        "\tif len(centroids) <= 5:\n",
        "\t\ta = 1\n",
        "\telif len(centroids) <= 10:\n",
        "\t\ta = 2\n",
        "\telse:\n",
        "\t\ta = 4\n",
        "\tfor i in range(0, len(centroids)):\n",
        "\t\tcent = centroids[i]\n",
        "\t\told_cent = old_centroids[i]\n",
        "\t\tif ((int(old_cent[0]) - a) <= cent[0] <= (int(old_cent[0]) + a)) and ((int(old_cent[1]) - a) <= cent[1] <= (int(old_cent[1]) + a)) and ((int(old_cent[2]) - a) <= cent[2] <= (int(old_cent[2]) + a)):\n",
        "\t\t\tcontinue\n",
        "\t\telse:\n",
        "\t\t\treturn False\n",
        "\treturn True\n",
        "\n",
        "def getMin(pixel, centroids):\n",
        "\tminDist = 9999\n",
        "\tminIndex = 0\n",
        "\tfor i in range(0, len(centroids)):\n",
        "\t\td = numpy.sqrt(int((centroids[i][0] - pixel[0]))**2 + int((centroids[i][1] - pixel[1]))**2 + int((centroids[i][2] - pixel[2]))**2)\n",
        "\t\tif d < minDist:\n",
        "\t\t\tminDist = d\n",
        "\t\t\tminIndex = i\n",
        "\treturn minIndex\n",
        "\n",
        "def assignPixels(centroids):\n",
        "\tclusters = {}\n",
        "\tfor x in range(0, img_width):\n",
        "\t\tfor y in range(0, img_height):\n",
        "\t\t\tp = px[x, y]\n",
        "\t\t\tminIndex = getMin(px[x, y], centroids)\n",
        "\t\t\ttry:\n",
        "\t\t\t\tclusters[minIndex].append(p)\n",
        "\t\t\texcept KeyError:\n",
        "\t\t\t\tclusters[minIndex] = [p]\n",
        "\treturn clusters\n",
        "\n",
        "def adjustCentroids(centroids, clusters):\n",
        "\tnew_centroids = []\n",
        "\tkeys = sorted(clusters.keys())\n",
        "\tfor k in keys:\n",
        "\t\tn = numpy.mean(clusters[k], axis=0)\n",
        "\t\tnew = (int(n[0]), int(n[1]), int(n[2]))\n",
        "\t\t#print(str(k) + \": \" + str(new))\n",
        "\t\tnew_centroids.append(new)\n",
        "\treturn new_centroids\n",
        "\n",
        "def startKmeans(someK):\n",
        "\tcentroids = []\n",
        "\told_centroids = []\n",
        "\trgb_range = ImageStat.Stat(im).extrema\n",
        "\ti = 1\n",
        "\t#Initializes someK number of centroids for the clustering\n",
        "\tfor k in range(0, someK):\n",
        "\t\tcent = px[numpy.random.randint(0, img_width), numpy.random.randint(0, img_height)]\n",
        "\t\tcentroids.append(cent)\n",
        "\tprint(\"create centroids , classifying pixels \")\n",
        "\twhile not converged(centroids, old_centroids) and i <= 20:\n",
        "\t\ti += 1\n",
        "\t\told_centroids = centroids \t\t\t\t\t\t\t\t#Make the current centroids into the old centroids\n",
        "\t\tclusters = assignPixels(centroids) \t\t\t\t\t\t#Assign each pixel in the image to their respective centroids\n",
        "\t\tcentroids = adjustCentroids(old_centroids, clusters) \t#Adjust the centroids to the center of their assigned pixels\n",
        "\tprint(\"converged\")\n",
        "\tprint(centroids)\n",
        "\treturn centroids\n",
        "\n",
        "def drawWindow(result, path):\n",
        "\timg = Image.new('RGB', (img_width, img_height), \"white\")\n",
        "\tp = img.load()\n",
        "\tfor x in range(img.size[0]):\n",
        "\t\tfor y in range(img.size[1]):\n",
        "\t\t\tRGB_value = result[getMin(px[x, y], result)]\n",
        "\t\t\tp[x, y] = RGB_value\n",
        "\timg.show()\n",
        "\timg.save(path)\n",
        "\tdisplay(img.resize((128,128)))"
      ],
      "execution_count": 0,
      "outputs": []
    },
    {
      "cell_type": "code",
      "metadata": {
        "id": "FFsVPJwtBo5W",
        "colab_type": "code",
        "colab": {}
      },
      "source": [
        "def accuracy(confusion_matrix):\n",
        "    diagonal_sum = confusion_matrix.trace()\n",
        "    sum_of_all_elements = confusion_matrix.sum()\n",
        "    return diagonal_sum / sum_of_all_elements "
      ],
      "execution_count": 0,
      "outputs": []
    },
    {
      "cell_type": "code",
      "metadata": {
        "id": "TPYTlnlMpjcs",
        "colab_type": "code",
        "colab": {}
      },
      "source": [
        "#confusion matrix\n",
        "from sklearn.metrics import confusion_matrix\n",
        "def conf_matrix(path1, path2):\n",
        "    original = path1\n",
        "    original2 = Image.open(original)\n",
        "    original2= np.array(original2)\n",
        "    original2 = original2.flatten()\n",
        "    original2.shape\n",
        "    kMeans = path2\n",
        "    kMeans2 = Image.open(kMeans)\n",
        "    kMeans2= np.array(kMeans2)\n",
        "    kMeans2 = kMeans2.flatten()\n",
        "    kMeans2.shape\n",
        "    c1 = confusion_matrix(original2, kMeans2)\n",
        "    print(c1)\n",
        "    print(\"Accuracy of KMeans Segmentation Image1: \",round(accuracy(c1)*100, 2) ,\"%\" )"
      ],
      "execution_count": 0,
      "outputs": []
    },
    {
      "cell_type": "markdown",
      "metadata": {
        "id": "mJI5H9ygDMbK",
        "colab_type": "text"
      },
      "source": [
        "####  Apply the K-means algorithm on the created test images and compute the overall accuracy. Report the results in a confusion matrix for each image. "
      ]
    },
    {
      "cell_type": "code",
      "metadata": {
        "id": "Rt5Q12a4Cz3g",
        "colab_type": "code",
        "colab": {
          "base_uri": "https://localhost:8080/",
          "height": 217
        },
        "outputId": "fd8423ac-5918-4b93-b41d-2c2bbcec158b"
      },
      "source": [
        "k_input = 4\n",
        "img = \"/content/im1.tif\"\n",
        "im = Image.open(img)\n",
        "print(im.size)\n",
        "img_width, img_height = im.size\n",
        "px = im.load()\n",
        "result = startKmeans(k_input)\n",
        "drawWindow(result,\"/content/im1KMEANS.tif\" )"
      ],
      "execution_count": 10,
      "outputs": [
        {
          "output_type": "stream",
          "text": [
            "(512, 512)\n",
            "create centroids , classifying pixels \n",
            "converged\n",
            "[(170, 170, 170), (40, 40, 40), (90, 90, 90), (200, 200, 200)]\n"
          ],
          "name": "stdout"
        },
        {
          "output_type": "display_data",
          "data": {
            "image/png": "[encoded data removed]",
            "text/plain": [
              "<PIL.Image.Image image mode=RGB size=128x128 at 0x7FC361AD2668>"
            ]
          },
          "metadata": {
            "tags": []
          }
        }
      ]
    },
    {
      "cell_type": "code",
      "metadata": {
        "id": "Q1VllIgWCHX3",
        "colab_type": "code",
        "colab": {
          "base_uri": "https://localhost:8080/",
          "height": 108
        },
        "outputId": "d9bd8014-b34a-404c-abfa-2da3e1ed3786"
      },
      "source": [
        "conf_matrix(\"/content/im1.tif\", \"/content/im1KMEANS.tif\")"
      ],
      "execution_count": 11,
      "outputs": [
        {
          "output_type": "stream",
          "text": [
            "[[196608      0      0      0]\n",
            " [     0 196608      0      0]\n",
            " [     0      0 196608      0]\n",
            " [     0      0      0 196608]]\n",
            "Accuracy of KMeans Segmentation Image1:  100.0 %\n"
          ],
          "name": "stdout"
        }
      ]
    },
    {
      "cell_type": "code",
      "metadata": {
        "id": "ioDrHBASDYPB",
        "colab_type": "code",
        "colab": {
          "base_uri": "https://localhost:8080/",
          "height": 290
        },
        "outputId": "d5cf5a4f-11b7-43b2-d6f2-81131197b22b"
      },
      "source": [
        "k_input = 4\n",
        "img = \"/content/im2.tif\"\n",
        "im = Image.open(img)\n",
        "img_width, img_height = im.size\n",
        "px = im.load()\n",
        "result = startKmeans(k_input)\n",
        "drawWindow(result,\"/content/im2KMEANS.tif\" )\n",
        "conf_matrix(\"/content/im2.tif\", \"/content/im2KMEANS.tif\")"
      ],
      "execution_count": 12,
      "outputs": [
        {
          "output_type": "stream",
          "text": [
            "create centroids , classifying pixels \n",
            "converged\n",
            "[(170, 170, 170), (200, 200, 200), (40, 40, 40), (90, 90, 90)]\n"
          ],
          "name": "stdout"
        },
        {
          "output_type": "display_data",
          "data": {
            "image/png": "[encoded data removed]",
            "text/plain": [
              "<PIL.Image.Image image mode=RGB size=128x128 at 0x7FC34A4F35C0>"
            ]
          },
          "metadata": {
            "tags": []
          }
        },
        {
          "output_type": "stream",
          "text": [
            "[[201069      0      0      0]\n",
            " [     0 202239      0      0]\n",
            " [     0      0 203640      0]\n",
            " [     0      0      0 179484]]\n",
            "Accuracy of KMeans Segmentation Image1:  100.0 %\n"
          ],
          "name": "stdout"
        }
      ]
    },
    {
      "cell_type": "code",
      "metadata": {
        "id": "V-CdfNpgDfQj",
        "colab_type": "code",
        "colab": {
          "base_uri": "https://localhost:8080/",
          "height": 272
        },
        "outputId": "67ee10d0-b26b-414b-cdac-175b810a40a6"
      },
      "source": [
        "k_input = 3\n",
        "img = \"/content/im5.tif\"\n",
        "im = Image.open(img)\n",
        "img_width, img_height = im.size\n",
        "px = im.load()\n",
        "result = startKmeans(k_input)\n",
        "drawWindow(result,\"/content/im5KMEANS.tif\" )\n",
        "conf_matrix(\"/content/im5.tif\", \"/content/im5KMEANS.tif\")"
      ],
      "execution_count": 13,
      "outputs": [
        {
          "output_type": "stream",
          "text": [
            "create centroids , classifying pixels \n",
            "converged\n",
            "[(100, 100, 100), (50, 50, 50), (200, 200, 200)]\n"
          ],
          "name": "stdout"
        },
        {
          "output_type": "display_data",
          "data": {
            "image/png": "[encoded data removed]",
            "text/plain": [
              "<PIL.Image.Image image mode=RGB size=128x128 at 0x7FC3400C69E8>"
            ]
          },
          "metadata": {
            "tags": []
          }
        },
        {
          "output_type": "stream",
          "text": [
            "[[356352      0      0]\n",
            " [     0 356352      0]\n",
            " [     0      0  73728]]\n",
            "Accuracy of KMeans Segmentation Image1:  100.0 %\n"
          ],
          "name": "stdout"
        }
      ]
    },
    {
      "cell_type": "code",
      "metadata": {
        "id": "f3Zt_Q1nESWu",
        "colab_type": "code",
        "colab": {
          "base_uri": "https://localhost:8080/",
          "height": 326
        },
        "outputId": "ae31266f-aa49-41c5-ddbc-60021800ed63"
      },
      "source": [
        "k_input = 6\n",
        "img = \"/content/im8.tif\"\n",
        "im = Image.open(img)\n",
        "img_width, img_height = im.size\n",
        "px = im.load()\n",
        "result = startKmeans(k_input)\n",
        "drawWindow(result,\"/content/im8KMEANS.tif\" )\n",
        "conf_matrix(\"/content/im8.tif\", \"/content/im8KMEANS.tif\")"
      ],
      "execution_count": 17,
      "outputs": [
        {
          "output_type": "stream",
          "text": [
            "create centroids , classifying pixels \n",
            "converged\n",
            "[(100, 100, 100), (50, 50, 50), (40, 40, 40), (170, 170, 170), (200, 200, 200), (90, 90, 90)]\n"
          ],
          "name": "stdout"
        },
        {
          "output_type": "display_data",
          "data": {
            "image/png": "[encoded data removed]",
            "text/plain": [
              "<PIL.Image.Image image mode=RGB size=128x128 at 0x7FC3400C6A20>"
            ]
          },
          "metadata": {
            "tags": []
          }
        },
        {
          "output_type": "stream",
          "text": [
            "[[ 28299      0      0      0      0      0]\n",
            " [     0 313020      0      0      0      0]\n",
            " [     0      0  29682      0      0      0]\n",
            " [     0      0      0 312789      0      0]\n",
            " [     0      0      0      0  30822      0]\n",
            " [     0      0      0      0      0  71820]]\n",
            "Accuracy of KMeans Segmentation Image1:  100.0 %\n"
          ],
          "name": "stdout"
        }
      ]
    },
    {
      "cell_type": "markdown",
      "metadata": {
        "id": "m_H2QRqlFZeU",
        "colab_type": "text"
      },
      "source": [
        "## Apply the algorithm on the test gray level image that matches your group.\n"
      ]
    },
    {
      "cell_type": "code",
      "metadata": {
        "id": "7ATlTUur8DsF",
        "colab_type": "code",
        "colab": {
          "base_uri": "https://localhost:8080/",
          "height": 365
        },
        "outputId": "68b03ed6-3789-40e1-df91-fe716454947e"
      },
      "source": [
        "k_input = 120\n",
        "img = \"/content/gray.jpg\"\n",
        "im = Image.open(img)\n",
        "img_width, img_height = im.size\n",
        "px = im.load()\n",
        "result = startKmeans(k_input)\n",
        "drawWindow(result,\"/content/grayKMeans.jpg\" )\n",
        "conf_matrix(\"/content/gray.jpg\", \"/content/grayKMeans.jpg\")"
      ],
      "execution_count": 18,
      "outputs": [
        {
          "output_type": "stream",
          "text": [
            "create centroids , classifying pixels \n",
            "converged\n",
            "[(124, 124, 124), (118, 118, 118), (117, 117, 117), (126, 126, 126), (119, 119, 119), (100, 100, 100), (113, 113, 113), (123, 123, 123), (99, 99, 99), (107, 107, 107), (133, 133, 133), (102, 102, 102), (129, 129, 129), (134, 134, 134), (122, 122, 122), (120, 120, 120), (108, 108, 108), (109, 109, 109), (141, 141, 141), (145, 145, 145), (130, 130, 130), (84, 84, 84), (103, 103, 103), (149, 149, 149), (125, 125, 125), (137, 137, 137), (19, 19, 19), (95, 95, 95), (4, 4, 4), (88, 88, 88), (155, 155, 155), (97, 97, 97), (32, 32, 32), (143, 143, 143), (128, 128, 128), (132, 132, 132), (111, 111, 111), (121, 121, 121), (112, 112, 112), (127, 127, 127), (92, 92, 92), (114, 114, 114), (116, 116, 116), (8, 8, 8), (104, 104, 104), (142, 142, 142), (86, 86, 86), (64, 64, 64), (105, 105, 105), (11, 11, 11), (115, 115, 115), (140, 140, 140), (135, 135, 135), (106, 106, 106), (79, 79, 79), (144, 144, 144), (136, 136, 136), (139, 139, 139)]\n"
          ],
          "name": "stdout"
        },
        {
          "output_type": "display_data",
          "data": {
            "image/png": "[encoded data removed]",
            "text/plain": [
              "<PIL.Image.Image image mode=RGB size=128x128 at 0x7FC35C678128>"
            ]
          },
          "metadata": {
            "tags": []
          }
        },
        {
          "output_type": "stream",
          "text": [
            "[[27 15  9 ...  0  0  0]\n",
            " [12  0  0 ...  0  0  0]\n",
            " [ 6  6 12 ...  0  0  0]\n",
            " ...\n",
            " [ 0  0  0 ...  0  0  0]\n",
            " [ 0  0  0 ...  0  0  0]\n",
            " [ 0  0  0 ...  0  0  0]]\n",
            "Accuracy of KMeans Segmentation Image1:  76.09 %\n"
          ],
          "name": "stdout"
        }
      ]
    },
    {
      "cell_type": "markdown",
      "metadata": {
        "id": "EZYneV9KyJvk",
        "colab_type": "text"
      },
      "source": [
        "###  Apply the algorithm on the test colored image that matches your group.\n"
      ]
    },
    {
      "cell_type": "code",
      "metadata": {
        "id": "xo6JGB-ux3uA",
        "colab_type": "code",
        "colab": {
          "base_uri": "https://localhost:8080/",
          "height": 365
        },
        "outputId": "63edead9-762e-4ad9-dd25-c7da762c7f1d"
      },
      "source": [
        "k_input = 150\n",
        "img = \"/content/DLCV.jpg\"\n",
        "im = Image.open(img)\n",
        "img_width, img_height = im.size\n",
        "px = im.load()\n",
        "result = startKmeans(k_input)\n",
        "drawWindow(result,\"/content/DLCVKMeans.jpg\" )\n",
        "conf_matrix(\"/content/DLCV.jpg\", \"/content/DLCVKMeans.jpg\")"
      ],
      "execution_count": 19,
      "outputs": [
        {
          "output_type": "stream",
          "text": [
            "create centroids , classifying pixels \n",
            "converged\n",
            "[(40, 69, 103), (105, 112, 125), (123, 126, 135), (112, 118, 130), (141, 140, 146), (109, 116, 132), (157, 155, 159), (116, 121, 120), (112, 116, 127), (113, 118, 126), (109, 115, 129), (99, 104, 104), (135, 135, 141), (101, 110, 126), (119, 123, 134), (96, 107, 125), (116, 121, 132), (136, 135, 147), (133, 133, 143), (129, 131, 142), (125, 128, 137), (131, 131, 141), (144, 143, 153), (117, 122, 137), (138, 138, 144), (140, 139, 145), (134, 134, 145), (133, 134, 139), (111, 117, 131), (114, 120, 135), (126, 126, 137), (132, 132, 138), (107, 113, 128), (131, 133, 145), (112, 118, 133), (144, 143, 148), (120, 124, 133), (85, 98, 120), (133, 138, 133), (107, 114, 125), (140, 139, 149), (127, 129, 141), (110, 117, 128), (124, 124, 135), (109, 114, 115), (118, 122, 134), (136, 136, 141), (58, 65, 58), (103, 109, 125), (100, 107, 123), (104, 112, 128), (122, 125, 137), (128, 128, 138), (137, 137, 142), (64, 83, 110), (119, 120, 133), (127, 130, 137), (135, 136, 143), (130, 131, 139), (139, 138, 149), (142, 140, 151), (108, 113, 122), (115, 122, 133), (143, 141, 147), (86, 98, 116), (123, 126, 138), (88, 93, 92), (35, 43, 33), (121, 123, 136), (136, 136, 146), (117, 119, 132), (79, 93, 116), (76, 81, 79), (96, 105, 119), (120, 124, 139), (120, 124, 135), (72, 88, 113), (137, 138, 148), (48, 73, 105), (101, 108, 121), (130, 132, 136), (124, 127, 139), (91, 102, 119), (129, 129, 140), (107, 112, 126), (150, 148, 153), (109, 115, 127), (91, 103, 121), (56, 78, 107), (146, 144, 150), (125, 128, 131), (118, 122, 131), (139, 143, 143), (114, 118, 129), (19, 27, 14), (122, 122, 132), (115, 119, 128), (116, 119, 135), (128, 130, 134), (110, 114, 125), (134, 132, 143), (94, 105, 122), (117, 121, 129), (132, 131, 143), (104, 110, 122), (126, 128, 139), (99, 108, 127), (97, 106, 122), (115, 118, 133), (107, 114, 130), (108, 116, 134), (115, 119, 131), (7, 12, 5), (92, 99, 113), (121, 125, 127)]\n"
          ],
          "name": "stdout"
        },
        {
          "output_type": "display_data",
          "data": {
            "image/png": "[encoded data removed]",
            "text/plain": [
              "<PIL.Image.Image image mode=RGB size=128x128 at 0x7FC36CEE2278>"
            ]
          },
          "metadata": {
            "tags": []
          }
        },
        {
          "output_type": "stream",
          "text": [
            "[[117  41  49 ...   0   0   0]\n",
            " [ 15   9   7 ...   0   0   0]\n",
            " [ 22  12  15 ...   0   0   0]\n",
            " ...\n",
            " [  0   0   0 ...   0   0   0]\n",
            " [  0   0   0 ...   0   0   0]\n",
            " [  0   0   0 ...   0   0   0]]\n",
            "Accuracy of KMeans Segmentation Image1:  50.5 %\n"
          ],
          "name": "stdout"
        }
      ]
    },
    {
      "cell_type": "markdown",
      "metadata": {
        "id": "SrVZKLVHFNkh",
        "colab_type": "text"
      },
      "source": [
        "### Implement the EM algorithm as instructed in the lecture slides. \n"
      ]
    },
    {
      "cell_type": "code",
      "metadata": {
        "id": "9VdgAEw-FNGa",
        "colab_type": "code",
        "colab": {}
      },
      "source": [
        "import sys\n",
        "import numpy as np\n",
        "import matplotlib.pyplot as plt\n",
        "%matplotlib inline  \n",
        "from scipy import misc\n",
        "from sklearn.cluster import KMeans\n",
        "from sklearn import preprocessing as pre"
      ],
      "execution_count": 0,
      "outputs": []
    },
    {
      "cell_type": "code",
      "metadata": {
        "id": "CdltyQzeyDzw",
        "colab_type": "code",
        "colab": {}
      },
      "source": [
        "def logsumexp(X):\n",
        "    x_max = X.max(1)\n",
        "    return x_max + np.log(np.exp(X - x_max[:, None]).sum(1))"
      ],
      "execution_count": 0,
      "outputs": []
    },
    {
      "cell_type": "code",
      "metadata": {
        "id": "QvllVyBZY3IK",
        "colab_type": "code",
        "colab": {}
      },
      "source": [
        "#We use k-means to compute rough cluster centers and mixture weights.\n",
        "\n",
        "CONVERGENCE_THRESHOLD = 100\n",
        "\n",
        "def EM(X, img_name, W, H, center, scale):    \n",
        "    plt_num = 1\n",
        "\n",
        "    estimators = {'k_means_150': KMeans(n_clusters=150)}\n",
        "    \n",
        "    for name, est in estimators.items():\n",
        "        print(name)\n",
        "        J = int(name[8:])\n",
        "        NUM_PIXELS = X.shape[0]\n",
        "        \n",
        "        # perform k means\n",
        "        est.fit(X)\n",
        "        segments_id = est.labels_\n",
        "        \n",
        "        # get initial cluster centers/ means from k-means\n",
        "        means = est.cluster_centers_\n",
        "        \n",
        "        # get initial pi from k-means\n",
        "        pi = np.array([np.sum(segments_id == i) for i in range(J)])\n",
        "        pi = pi / float(NUM_PIXELS)\n",
        "\n",
        "        print(\"check there are no zero values in pi\", 0 not in pi)\n",
        "        \n",
        "        ### EM ###\n",
        "        prev_Q = sys.maxsize\n",
        "        list_of_q = []\n",
        "        \n",
        "        while True:\n",
        "            \n",
        "            ## E-Step ##\n",
        "            ll = np.zeros((NUM_PIXELS, J))\n",
        "            for j in range(J):\n",
        "                ll[:,j] = -0.5 * np.sum((X - means[j,])**2, 1)\n",
        "            \n",
        "            # compute w_ij\n",
        "            w = np.exp(ll) @ np.diag(pi)\n",
        "            w = (w.T / np.sum(w,1)).T\n",
        "            \n",
        "            # compute Q without constant K\n",
        "            Q = np.sum(ll * w)\n",
        "            list_of_q.append(Q)\n",
        "            \n",
        "            # check for convergence\n",
        "            if abs(Q - prev_Q) <= CONVERGENCE_THRESHOLD:\n",
        "                break\n",
        "            else:\n",
        "                prev_Q = Q\n",
        "            \n",
        "            ## M-Step ##\n",
        "            \n",
        "            # update means\n",
        "            for j in range(J):\n",
        "                means[j,] = np.sum((X.T * w[:,j]).T, 0) / np.sum(w[:,j])\n",
        "\n",
        "            # update pi\n",
        "            pi = np.sum(w, 0)/ NUM_PIXELS\n",
        "            \n",
        "        # display result as segmented image\n",
        "        segmented_img_rgb = np.zeros((H, W, 3), dtype=np.uint8)\n",
        "        for i in range(H):\n",
        "            for j in range(W):\n",
        "                idx = (i-1) * W + j\n",
        "                pixel = X[idx,]\n",
        "                pixel_segment_id = np.argmax(w[idx,])\n",
        "                segmented_img_rgb[i,j,] = means[pixel_segment_id,] * scale + center\n",
        "        \n",
        "        plt.figure(plt_num)\n",
        "        plt.imshow(segmented_img_rgb) # show segmented image\n",
        "        plt.show()\n",
        "        plt_num += 1\n",
        "        segmented_img_rgb = Image.fromarray(segmented_img_rgb, 'RGB')\n",
        "        segmented_img_rgb.save(img_name) # save segmented image"
      ],
      "execution_count": 0,
      "outputs": []
    },
    {
      "cell_type": "code",
      "metadata": {
        "id": "VOn_CIwNZRcd",
        "colab_type": "code",
        "colab": {
          "base_uri": "https://localhost:8080/",
          "height": 305
        },
        "outputId": "6572b38d-c66f-477b-a8de-9e9182617b55"
      },
      "source": [
        "# read data\n",
        "import imageio\n",
        "goby_img = imageio.imread('/content/DLCV.jpg')\n",
        "(H, W, N) = goby_img.shape\n",
        "data = goby_img.reshape((H * W, N))\n",
        "data_centers = np.mean(data, 0)\n",
        "data_scale = np.std(data, 0)\n",
        "data = pre.scale(data)\n",
        "\n",
        "# run EM\n",
        "EM(data, '/content/DLCVEM.jpg',W, H, data_centers, data_scale)"
      ],
      "execution_count": 46,
      "outputs": [
        {
          "output_type": "stream",
          "text": [
            "k_means_150\n",
            "check there are no zero values in pi True\n"
          ],
          "name": "stdout"
        },
        {
          "output_type": "display_data",
          "data": {
            "image/png": "[encoded data removed]",
            "text/plain": [
              "<Figure size 432x288 with 1 Axes>"
            ]
          },
          "metadata": {
            "tags": []
          }
        }
      ]
    },
    {
      "cell_type": "code",
      "metadata": {
        "id": "8E24FSWcaoEd",
        "colab_type": "code",
        "colab": {
          "base_uri": "https://localhost:8080/",
          "height": 163
        },
        "outputId": "b0cca4b4-d535-4c74-afd3-6fbb9427c78f"
      },
      "source": [
        "conf_matrix(\"/content/DLCV.jpg\", \"/content/DLCVEM.jpg\")"
      ],
      "execution_count": 47,
      "outputs": [
        {
          "output_type": "stream",
          "text": [
            "[[0 1 1 ... 0 0 0]\n",
            " [0 0 2 ... 0 0 0]\n",
            " [0 0 0 ... 0 0 0]\n",
            " ...\n",
            " [0 0 0 ... 0 0 0]\n",
            " [0 0 0 ... 0 0 0]\n",
            " [0 0 0 ... 0 0 0]]\n",
            "Accuracy of KMeans Segmentation Image1:  3.66 %\n"
          ],
          "name": "stdout"
        }
      ]
    },
    {
      "cell_type": "markdown",
      "metadata": {
        "id": "0Dm1R4pvji1P",
        "colab_type": "text"
      },
      "source": [
        "### Alternative to problem 3 using K-means algorithm.\n",
        "Load the hyperspectral image and the segmentation ground truth saved in .mat\n",
        "files according to your group\n"
      ]
    },
    {
      "cell_type": "code",
      "metadata": {
        "id": "Z_e1kXrLhYuK",
        "colab_type": "code",
        "colab": {}
      },
      "source": [
        "from scipy.io import loadmat\n",
        "#load hyperspectral images\n",
        "q4 = loadmat('/content/SalinasA_Q4.mat')\n",
        "hyperspectralData = q4['Q4']\n",
        "#load the ground truth\n",
        "gt = loadmat('/content/SalinasA_GT4.mat')\n",
        "gtData = gt['Q4_GT']"
      ],
      "execution_count": 0,
      "outputs": []
    },
    {
      "cell_type": "markdown",
      "metadata": {
        "id": "9VobbARrrejr",
        "colab_type": "text"
      },
      "source": [
        "Reshape the image to be one vector of pixels where each pixel has 204\n",
        "subbands. "
      ]
    },
    {
      "cell_type": "code",
      "metadata": {
        "id": "MWDCYpuujtev",
        "colab_type": "code",
        "colab": {}
      },
      "source": [
        "from sklearn.cluster import KMeans\n",
        "dataFlattened = hyperspectralData.reshape((hyperspectralData.shape[0]*hyperspectralData.shape[1],hyperspectralData.shape[2]))\n",
        "import matplotlib\n",
        "matplotlib.image.imsave('/content/hyperspectral.jpg', dataFlattened)\n",
        "#Do the same for ground truth\n",
        "gtFlattened = gtData.flatten()"
      ],
      "execution_count": 0,
      "outputs": []
    },
    {
      "cell_type": "markdown",
      "metadata": {
        "id": "Ge5SUsvFrmX_",
        "colab_type": "text"
      },
      "source": [
        "Apply the k-means algorithm on this images. The image contain 7 classes in total.\n",
        "\n",
        "Test the accuracy of the algorithm using the ground truth MAT file associated.\n",
        "Report the results in a confusion matrix. "
      ]
    },
    {
      "cell_type": "code",
      "metadata": {
        "id": "T9oCm-Emp8W8",
        "colab_type": "code",
        "colab": {
          "base_uri": "https://localhost:8080/",
          "height": 199
        },
        "outputId": "8408ee05-ef0b-49cb-ed9d-942978f8d2b8"
      },
      "source": [
        "k_input = 7\n",
        "img = \"/content/hyperspectral.jpg\"\n",
        "im = Image.open(img)\n",
        "img_width, img_height = im.size\n",
        "px = im.load()\n",
        "result = startKmeans(k_input)\n",
        "drawWindow(result,\"/content/hyperspectralKMEANS.jpg\" )"
      ],
      "execution_count": 80,
      "outputs": [
        {
          "output_type": "stream",
          "text": [
            "create centroids , classifying pixels \n",
            "converged\n",
            "[(124, 206, 80), (35, 138, 139), (52, 94, 140), (68, 7, 90), (65, 62, 131), (71, 39, 119), (71, 21, 104)]\n"
          ],
          "name": "stdout"
        },
        {
          "output_type": "display_data",
          "data": {
            "image/png": "[encoded data removed]",
            "text/plain": [
              "<PIL.Image.Image image mode=RGB size=128x128 at 0x7FC33DFD1908>"
            ]
          },
          "metadata": {
            "tags": []
          }
        }
      ]
    },
    {
      "cell_type": "code",
      "metadata": {
        "id": "jlBYGkrnw22t",
        "colab_type": "code",
        "colab": {
          "base_uri": "https://localhost:8080/",
          "height": 126
        },
        "outputId": "6081e1f2-2bb4-4f32-d2cc-8be25dc4046f"
      },
      "source": [
        "conf_matrix(\"/content/hyperspectral.jpg\", \"/content/hyperspectralKMEANS.jpg\")"
      ],
      "execution_count": 91,
      "outputs": [
        {
          "output_type": "stream",
          "text": [
            "array([[749,   0,   0,   0,   0],\n",
            "[198, 153,  77,   0,   0],\n",
            "[  0,   8, 100,   0,   0],\n",
            "[161,   0,   0,   0,   0],\n",
            "[  0, 287,   30,   0,   0]], dtype=int64)\n",
            "Accuracy of KMeans Segmentation Image1:  56.83 %\n"
          ],
          "name": "stdout"
        }
      ]
    }
  ]
}